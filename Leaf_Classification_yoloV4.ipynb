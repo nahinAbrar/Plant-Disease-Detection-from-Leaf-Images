{
  "nbformat": 4,
  "nbformat_minor": 0,
  "metadata": {
    "colab": {
      "provenance": [],
      "include_colab_link": true
    },
    "kernelspec": {
      "name": "python3",
      "display_name": "Python 3"
    },
    "language_info": {
      "name": "python"
    }
  },
  "cells": [
    {
      "cell_type": "markdown",
      "metadata": {
        "id": "view-in-github",
        "colab_type": "text"
      },
      "source": [
        "<a href=\"https://colab.research.google.com/github/nahinAbrar/Plant-Disease-Detection-from-Leaf-Images/blob/main/Leaf_Classification_yoloV4.ipynb\" target=\"_parent\"><img src=\"https://colab.research.google.com/assets/colab-badge.svg\" alt=\"Open In Colab\"/></a>"
      ]
    },
    {
      "cell_type": "code",
      "source": [
        "from google.colab import drive\n",
        "drive.mount('/content/drive')"
      ],
      "metadata": {
        "id": "CsEn5XdzGOod"
      },
      "execution_count": null,
      "outputs": []
    },
    {
      "cell_type": "code",
      "source": [
        "output_folder = \"/content/drive/MyDrive/dataset_128\""
      ],
      "metadata": {
        "id": "lEtvi-kGHhKa"
      },
      "execution_count": null,
      "outputs": []
    },
    {
      "cell_type": "code",
      "execution_count": null,
      "metadata": {
        "id": "Gc3m2TtwGJuc"
      },
      "outputs": [],
      "source": [
        "from PIL import Image\n",
        "import numpy as np\n",
        "\n",
        "# Create an empty 128x128 array filled with zeros\n",
        "empty_array = np.zeros((128, 128), dtype=np.uint8)\n",
        "\n",
        "# Load your image\n",
        "image_path = \"path_to_your_image.jpg\"\n",
        "image = Image.open(image_path)\n",
        "\n",
        "# Convert the image to a NumPy array\n",
        "image_array = np.array(image)\n",
        "\n",
        "# Get the dimensions of the image\n",
        "image_height, image_width = image_array.shape\n",
        "\n",
        "# Calculate the position to paste the image without resizing\n",
        "paste_x = (128 - image_width) // 2\n",
        "paste_y = (128 - image_height) // 2\n",
        "\n",
        "# Copy the image array into the empty array at the calculated position\n",
        "empty_array[paste_y : paste_y + image_height, paste_x : paste_x + image_width] = image_array\n",
        "\n",
        "# Now empty_array contains the image pasted onto a 128x128 canvas\n",
        "\n",
        "# You can display the resulting array as an image for verification\n",
        "resulting_image = Image.fromarray(empty_array)\n",
        "resulting_image.show()"
      ]
    }
  ]
}